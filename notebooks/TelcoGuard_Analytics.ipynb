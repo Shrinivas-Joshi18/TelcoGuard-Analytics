{
  "cells": [
    {
      "cell_type": "code",
      "source": [
        "import pandas as pd\n",
        "import numpy as np\n",
        "import matplotlib.pyplot as plt\n",
        "import seaborn as sns"
      ],
      "metadata": {
        "id": "4Q3Vq4KahR7p"
      },
      "execution_count": null,
      "outputs": []
    },
    {
      "cell_type": "code",
      "source": [
        "df = pd.read_csv('/content/fraud_dataset.csv')"
      ],
      "metadata": {
        "id": "y-cXF-MHheuT"
      },
      "execution_count": null,
      "outputs": []
    },
    {
      "cell_type": "code",
      "source": [
        "print(\"First 5 rows of the dataset:\")\n",
        "print(df.head())"
      ],
      "metadata": {
        "id": "Yc00DRTYhwWK",
        "outputId": "8a74bc65-7d6a-44e4-cf48-60acc5880340",
        "colab": {
          "base_uri": "https://localhost:8080/"
        }
      },
      "execution_count": null,
      "outputs": [
        {
          "output_type": "stream",
          "name": "stdout",
          "text": [
            "First 5 rows of the dataset:\n",
            "   step      type    amount     nameOrig  oldbalanceOrg  newbalanceOrig  \\\n",
            "0     1   PAYMENT   9839.64  C1231006815       170136.0       160296.36   \n",
            "1     1   PAYMENT   1864.28  C1666544295        21249.0        19384.72   \n",
            "2     1  TRANSFER    181.00  C1305486145          181.0            0.00   \n",
            "3     1  CASH_OUT    181.00   C840083671          181.0            0.00   \n",
            "4     1   PAYMENT  11668.14  C2048537720        41554.0        29885.86   \n",
            "\n",
            "      nameDest  oldbalanceDest  newbalanceDest  isFraud  isFlaggedFraud  \n",
            "0  M1979787155             0.0             0.0        0               0  \n",
            "1  M2044282225             0.0             0.0        0               0  \n",
            "2   C553264065             0.0             0.0        1               0  \n",
            "3    C38997010         21182.0             0.0        1               0  \n",
            "4  M1230701703             0.0             0.0        0               0  \n"
          ]
        }
      ]
    },
    {
      "cell_type": "code",
      "source": [
        "print(\"\\nDataset Info:\")\n",
        "df.info()"
      ],
      "metadata": {
        "id": "exv-HegsiAtT",
        "outputId": "0d986970-d887-4b84-abae-1db28db56ef6",
        "colab": {
          "base_uri": "https://localhost:8080/"
        }
      },
      "execution_count": null,
      "outputs": [
        {
          "output_type": "stream",
          "name": "stdout",
          "text": [
            "\n",
            "Dataset Info:\n",
            "<class 'pandas.core.frame.DataFrame'>\n",
            "RangeIndex: 6362620 entries, 0 to 6362619\n",
            "Data columns (total 11 columns):\n",
            " #   Column          Dtype  \n",
            "---  ------          -----  \n",
            " 0   step            int64  \n",
            " 1   type            object \n",
            " 2   amount          float64\n",
            " 3   nameOrig        object \n",
            " 4   oldbalanceOrg   float64\n",
            " 5   newbalanceOrig  float64\n",
            " 6   nameDest        object \n",
            " 7   oldbalanceDest  float64\n",
            " 8   newbalanceDest  float64\n",
            " 9   isFraud         int64  \n",
            " 10  isFlaggedFraud  int64  \n",
            "dtypes: float64(5), int64(3), object(3)\n",
            "memory usage: 534.0+ MB\n"
          ]
        }
      ]
    },
    {
      "cell_type": "code",
      "source": [
        "print(\"\\nMissing values in each column:\")\n",
        "print(df.isnull().sum())"
      ],
      "metadata": {
        "id": "td6v01zBiISa",
        "outputId": "cc44e230-1d65-4947-c3df-c02f03461943",
        "colab": {
          "base_uri": "https://localhost:8080/"
        }
      },
      "execution_count": null,
      "outputs": [
        {
          "output_type": "stream",
          "name": "stdout",
          "text": [
            "\n",
            "Missing values in each column:\n",
            "step              0\n",
            "type              0\n",
            "amount            0\n",
            "nameOrig          0\n",
            "oldbalanceOrg     0\n",
            "newbalanceOrig    0\n",
            "nameDest          0\n",
            "oldbalanceDest    0\n",
            "newbalanceDest    0\n",
            "isFraud           0\n",
            "isFlaggedFraud    0\n",
            "dtype: int64\n"
          ]
        }
      ]
    },
    {
      "cell_type": "code",
      "source": [
        "# Check the distribution of the 'isFraud' column\n",
        "fraud_counts = df['isFraud'].value_counts()\n",
        "print(\"Fraud Distribution:\")\n",
        "print(fraud_counts)"
      ],
      "metadata": {
        "id": "ZO3msLLPiNwL",
        "outputId": "edd1e211-fa53-4eaf-b7d8-bedffaf488c0",
        "colab": {
          "base_uri": "https://localhost:8080/"
        }
      },
      "execution_count": null,
      "outputs": [
        {
          "output_type": "stream",
          "name": "stdout",
          "text": [
            "Fraud Distribution:\n",
            "isFraud\n",
            "0    6354407\n",
            "1       8213\n",
            "Name: count, dtype: int64\n"
          ]
        }
      ]
    },
    {
      "cell_type": "code",
      "source": [
        "# Visualize the distribution\n",
        "plt.figure(figsize=(7, 5))\n",
        "sns.countplot(x='isFraud', data=df, palette=['#3498db', '#e74c3c'])\n",
        "plt.title('Distribution of Fraudulent vs. Non-Fraudulent Transactions')\n",
        "plt.xlabel('Is Fraud? (0 = No, 1 = Yes)')\n",
        "plt.ylabel('Number of Transactions')\n",
        "plt.xticks([0, 1], ['Not Fraud', 'Fraud'])\n",
        "plt.show()"
      ],
      "metadata": {
        "id": "Y3Eavb8piubj",
        "outputId": "fdf96916-7173-475d-fb13-3e592ef11b0a",
        "colab": {
          "base_uri": "https://localhost:8080/",
          "height": 594
        }
      },
      "execution_count": null,
      "outputs": [
        {
          "output_type": "stream",
          "name": "stderr",
          "text": [
            "/tmp/ipython-input-2283676680.py:3: FutureWarning: \n",
            "\n",
            "Passing `palette` without assigning `hue` is deprecated and will be removed in v0.14.0. Assign the `x` variable to `hue` and set `legend=False` for the same effect.\n",
            "\n",
            "  sns.countplot(x='isFraud', data=df, palette=['#3498db', '#e74c3c'])\n"
          ]
        },
        {
          "output_type": "display_data",
          "data": {
            "text/plain": [
              "<Figure size 700x500 with 1 Axes>"
            ],
            "image/png": "[encoded data removed]"
          },
          "metadata": {}
        }
      ]
    },
    {
      "cell_type": "code",
      "source": [
        "df = df.drop(['nameOrig', 'nameDest', 'isFlaggedFraud'], axis=1)"
      ],
      "metadata": {
        "id": "aBubdj0hi2KD"
      },
      "execution_count": null,
      "outputs": []
    },
    {
      "cell_type": "code",
      "source": [
        "df = pd.get_dummies(df, columns=['type'], drop_first=True)"
      ],
      "metadata": {
        "id": "n1zkxgSci8bJ"
      },
      "execution_count": null,
      "outputs": []
    },
    {
      "cell_type": "code",
      "source": [
        "# Let's check the first few rows of our newly processed data\n",
        "print(\"Processed Data Head:\")\n",
        "print(df.head())\n",
        "\n",
        "print(\"\\nShape of the processed data:\", df.shape)"
      ],
      "metadata": {
        "id": "G_RIJHPMi_oB",
        "outputId": "7605708e-6da5-478a-cda9-593b61d79b92",
        "colab": {
          "base_uri": "https://localhost:8080/"
        }
      },
      "execution_count": null,
      "outputs": [
        {
          "output_type": "stream",
          "name": "stdout",
          "text": [
            "Processed Data Head:\n",
            "   step    amount  oldbalanceOrg  newbalanceOrig  oldbalanceDest  \\\n",
            "0     1   9839.64       170136.0       160296.36             0.0   \n",
            "1     1   1864.28        21249.0        19384.72             0.0   \n",
            "2     1    181.00          181.0            0.00             0.0   \n",
            "3     1    181.00          181.0            0.00         21182.0   \n",
            "4     1  11668.14        41554.0        29885.86             0.0   \n",
            "\n",
            "   newbalanceDest  isFraud  type_CASH_OUT  type_DEBIT  type_PAYMENT  \\\n",
            "0             0.0        0          False       False          True   \n",
            "1             0.0        0          False       False          True   \n",
            "2             0.0        1          False       False         False   \n",
            "3             0.0        1           True       False         False   \n",
            "4             0.0        0          False       False          True   \n",
            "\n",
            "   type_TRANSFER  \n",
            "0          False  \n",
            "1          False  \n",
            "2           True  \n",
            "3          False  \n",
            "4          False  \n",
            "\n",
            "Shape of the processed data: (6362620, 11)\n"
          ]
        }
      ]
    },
    {
      "cell_type": "code",
      "source": [
        "from sklearn.model_selection import train_test_split\n",
        "from sklearn.preprocessing import StandardScaler"
      ],
      "metadata": {
        "id": "9C_9jEz6jDgR"
      },
      "execution_count": null,
      "outputs": []
    },
    {
      "cell_type": "code",
      "source": [
        "\n",
        "# --- FIX: Handle missing values in the target variable ---\n",
        "# First, let's see how many missing values there are in 'isFraud'\n",
        "print(f\"Missing values in 'isFraud' before cleaning: {df['isFraud'].isnull().sum()}\")\n",
        "\n",
        "# Drop rows where 'isFraud' is NaN.\n",
        "# 'inplace=True' modifies the DataFrame directly.\n",
        "df.dropna(subset=['isFraud'], inplace=True)\n",
        "\n",
        "print(f\"Missing values in 'isFraud' after cleaning: {df['isFraud'].isnull().sum()}\")\n",
        "# ---------------------------------------------------------\n",
        "\n",
        "\n",
        "# Define our features (X) and target (y)\n",
        "# We do this AFTER dropping the NaNs to ensure X and y have the same number of rows\n",
        "X = df.drop('isFraud', axis=1)\n",
        "y = df['isFraud']\n",
        "\n",
        "# Split data into 80% training and 20% testing\n",
        "# 'stratify=y' is VERY important here to keep the same percentage of fraud in both train and test sets\n",
        "X_train, X_test, y_train, y_test = train_test_split(X, y, test_size=0.2, random_state=42, stratify=y)\n",
        "\n",
        "# Scale the numerical features\n",
        "# This brings all our numerical columns to a similar scale, which helps the model learn more effectively.\n",
        "scaler = StandardScaler()\n",
        "X_train_scaled = scaler.fit_transform(X_train)\n",
        "X_test_scaled = scaler.transform(X_test)\n",
        "\n",
        "print(\"\\nData splitting and scaling complete!\")\n",
        "print(\"Training set shape:\", X_train_scaled.shape)\n",
        "print(\"Testing set shape:\", X_test_scaled.shape)"
      ],
      "metadata": {
        "id": "hSMvl_XWjLpD",
        "outputId": "7df21da5-421d-45d2-c661-eff4f0189c60",
        "colab": {
          "base_uri": "https://localhost:8080/"
        }
      },
      "execution_count": null,
      "outputs": [
        {
          "output_type": "stream",
          "name": "stdout",
          "text": [
            "Missing values in 'isFraud' before cleaning: 0\n",
            "Missing values in 'isFraud' after cleaning: 0\n",
            "\n",
            "Data splitting and scaling complete!\n",
            "Training set shape: (5090096, 10)\n",
            "Testing set shape: (1272524, 10)\n"
          ]
        }
      ]
    },
    {
      "cell_type": "code",
      "source": [
        "from sklearn.linear_model import LogisticRegression\n",
        "\n",
        "# Initialize the Logistic Regression model\n",
        "# We use class_weight='balanced' to automatically handle the imbalanced data.\n",
        "# This tells the model to pay more attention to the fraud cases (the minority class).\n",
        "model = LogisticRegression(random_state=42, class_weight='balanced')\n",
        "\n",
        "# Train the model on the scaled training data\n",
        "print(\"Starting model training...\")\n",
        "model.fit(X_train_scaled, y_train)\n",
        "\n",
        "print(\"Model training complete! 🎉\")"
      ],
      "metadata": {
        "id": "p_xH3bOrj4P0",
        "outputId": "9da89185-f570-4000-8255-6b86f93faea1",
        "colab": {
          "base_uri": "https://localhost:8080/"
        }
      },
      "execution_count": null,
      "outputs": [
        {
          "output_type": "stream",
          "name": "stdout",
          "text": [
            "Starting model training...\n",
            "Model training complete! 🎉\n"
          ]
        }
      ]
    },
    {
      "cell_type": "code",
      "source": [
        "from sklearn.metrics import classification_report, precision_score, recall_score, confusion_matrix"
      ],
      "metadata": {
        "id": "07fLTt3TeNTV"
      },
      "execution_count": null,
      "outputs": []
    },
    {
      "cell_type": "code",
      "source": [
        "# Make predictions on the test data (which the model has never seen)\n",
        "y_pred = model.predict(X_test_scaled)"
      ],
      "metadata": {
        "id": "GrUhgNL4ecLN"
      },
      "execution_count": null,
      "outputs": []
    },
    {
      "cell_type": "code",
      "source": [
        "# Calculate Precision\n",
        "precision = precision_score(y_test, y_pred)\n",
        "print(f\"Precision: {precision:.4f}\")\n",
        "\n",
        "# Calculate Recall\n",
        "recall = recall_score(y_test, y_pred)\n",
        "print(f\"Recall: {recall:.4f}\")\n",
        "\n",
        "# --- Comprehensive Report ---\n",
        "\n",
        "# Print a full classification report\n",
        "print(\"\\nClassification Report:\")\n",
        "print(classification_report(y_test, y_pred, target_names=['Not Fraud (0)', 'Fraud (1)']))"
      ],
      "metadata": {
        "colab": {
          "base_uri": "https://localhost:8080/"
        },
        "id": "rGc8ChL3ektR",
        "outputId": "4d04b398-8923-4b20-9544-dd496ca79310"
      },
      "execution_count": null,
      "outputs": [
        {
          "output_type": "stream",
          "name": "stdout",
          "text": [
            "Precision: 0.0238\n",
            "Recall: 0.9610\n",
            "\n",
            "Classification Report:\n",
            "               precision    recall  f1-score   support\n",
            "\n",
            "Not Fraud (0)       1.00      0.95      0.97   1270881\n",
            "    Fraud (1)       0.02      0.96      0.05      1643\n",
            "\n",
            "     accuracy                           0.95   1272524\n",
            "    macro avg       0.51      0.96      0.51   1272524\n",
            " weighted avg       1.00      0.95      0.97   1272524\n",
            "\n"
          ]
        }
      ]
    },
    {
      "cell_type": "code",
      "source": [
        "# --- Visualization ---\n",
        "\n",
        "# Generate and plot the confusion matrix\n",
        "cm = confusion_matrix(y_test, y_pred)\n",
        "plt.figure(figsize=(8, 6))\n",
        "sns.heatmap(cm, annot=True, fmt='d', cmap='Blues',\n",
        "            xticklabels=['Not Fraud', 'Fraud'],\n",
        "            yticklabels=['Not Fraud', 'Fraud'])\n",
        "plt.xlabel('Predicted Label')\n",
        "plt.ylabel('True Label')\n",
        "plt.title('Confusion Matrix')\n",
        "plt.show()"
      ],
      "metadata": {
        "colab": {
          "base_uri": "https://localhost:8080/",
          "height": 564
        },
        "id": "RMP-OaAwfxsw",
        "outputId": "129233f5-8e0f-4be4-87cd-4347934bf916"
      },
      "execution_count": null,
      "outputs": [
        {
          "output_type": "display_data",
          "data": {
            "text/plain": [
              "<Figure size 800x600 with 2 Axes>"
            ],
            "image/png": "[encoded data removed]"
          },
          "metadata": {}
        }
      ]
    },
    {
      "cell_type": "code",
      "source": [
        "import joblib\n",
        "\n",
        "# --- Define the filenames ---\n",
        "model_filename = 'fraud_detection_model.joblib'\n",
        "scaler_filename = 'scaler.joblib'\n",
        "\n",
        "# --- Save the model ---\n",
        "joblib.dump(model, model_filename)\n",
        "print(f\"Model saved to {model_filename}\")\n",
        "\n",
        "# --- Save the scaler ---\n",
        "joblib.dump(scaler, scaler_filename)\n",
        "print(f\"Scaler saved to {scaler_filename}\")"
      ],
      "metadata": {
        "colab": {
          "base_uri": "https://localhost:8080/"
        },
        "id": "0xsaBQOIf18m",
        "outputId": "3e242580-3d7b-452e-e70f-b92b4c021c58"
      },
      "execution_count": null,
      "outputs": [
        {
          "output_type": "stream",
          "name": "stdout",
          "text": [
            "Model saved to fraud_detection_model.joblib\n",
            "Scaler saved to scaler.joblib\n"
          ]
        }
      ]
    }
  ],
  "metadata": {
    "colab": {
      "provenance": []
    },
    "kernelspec": {
      "display_name": "Python 3",
      "name": "python3"
    }
  },
  "nbformat": 4,
  "nbformat_minor": 0
}